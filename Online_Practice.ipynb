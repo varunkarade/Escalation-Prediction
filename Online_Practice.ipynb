{
  "nbformat": 4,
  "nbformat_minor": 0,
  "metadata": {
    "colab": {
      "name": "Untitled2.ipynb",
      "provenance": [],
      "collapsed_sections": [],
      "authorship_tag": "ABX9TyO31w9ZtpO0QXAV/rKe8tR5",
      "include_colab_link": true
    },
    "kernelspec": {
      "name": "python3",
      "display_name": "Python 3"
    },
    "language_info": {
      "name": "python"
    }
  },
  "cells": [
    {
      "cell_type": "markdown",
      "metadata": {
        "id": "view-in-github",
        "colab_type": "text"
      },
      "source": [
        "<a href=\"https://colab.research.google.com/github/varunkarade/Escalation-Prediction/blob/master/Online_Practice.ipynb\" target=\"_parent\"><img src=\"https://colab.research.google.com/assets/colab-badge.svg\" alt=\"Open In Colab\"/></a>"
      ]
    },
    {
      "cell_type": "code",
      "metadata": {
        "id": "fMqcIiDko2UX"
      },
      "source": [
        ""
      ],
      "execution_count": null,
      "outputs": []
    },
    {
      "cell_type": "code",
      "metadata": {
        "colab": {
          "base_uri": "https://localhost:8080/"
        },
        "id": "yVZejnEOlulW",
        "outputId": "f6da9dce-adc1-4d71-d823-2f9d380f8d59"
      },
      "source": [
        "l=[90,11,22,33,44,55,3,64,42,65,1]\n",
        "\n",
        "def Stock(list):\n",
        "  diff=0\n",
        "  for num,i in enumerate(l):\n",
        "    for j in l[num+1:]:\n",
        "      d=j-i\n",
        "      #print(d)\n",
        "      if(diff<d):\n",
        "        diff=d\n",
        "      else:\n",
        "        pass\n",
        "  return diff\n",
        "\n",
        "print(Stock(l))"
      ],
      "execution_count": null,
      "outputs": [
        {
          "output_type": "stream",
          "name": "stdout",
          "text": [
            "62\n"
          ]
        }
      ]
    },
    {
      "cell_type": "code",
      "metadata": {
        "colab": {
          "base_uri": "https://localhost:8080/"
        },
        "id": "h6IagnVNGvdu",
        "outputId": "177f0c7f-c419-41ca-8ef5-6598991b702f"
      },
      "source": [
        "test_keys = [\"Rash\", \"Kil\", \"Varsha\"]\n",
        "test_values = [1, 4, 5]\n",
        "  \n",
        "# Printing original keys-value lists\n",
        "print (\"Original key list is : \" + str(test_keys))\n",
        "print (\"Original value list is : \" + str(test_values))\n",
        "  \n",
        "# using naive method\n",
        "# to convert lists to dictionary\n",
        "res = {}\n",
        "for key in test_keys:\n",
        "    for value in test_values:\n",
        "        res[key] = value\n",
        "        test_values.remove(value)\n",
        "        break  \n",
        "  \n",
        "# Printing resultant dictionary \n",
        "print (\"Resultant dictionary is : \" +  str(res))"
      ],
      "execution_count": null,
      "outputs": [
        {
          "output_type": "stream",
          "name": "stdout",
          "text": [
            "Original key list is : ['Rash', 'Kil', 'Varsha']\n",
            "Original value list is : [1, 4, 5]\n",
            "Resultant dictionary is : {'Rash': 1, 'Kil': 4, 'Varsha': 5}\n"
          ]
        }
      ]
    },
    {
      "cell_type": "code",
      "metadata": {
        "id": "YxmH5eNe5Cl8"
      },
      "source": [
        "l=[1,2,3,4,5]\n",
        "s=[2,3,4,5,6]\n",
        "\n",
        "#o=[1,2,2,3,3,4,4,5,56]\n",
        "\n",
        "def l(list1,list2):\n",
        "  new=list1\n",
        "  for i in l:\n",
        "    for \n"
      ],
      "execution_count": null,
      "outputs": []
    },
    {
      "cell_type": "code",
      "metadata": {
        "colab": {
          "base_uri": "https://localhost:8080/"
        },
        "id": "4DyuWEyiZ8Se",
        "outputId": "34ca9365-9013-4b94-af32-6d851c7e98a3"
      },
      "source": [
        "l=[3, 9, 50, 15, 99, 7, 98, 65]\n",
        "\n",
        "def f(l):\n",
        "  dif=l[1]-l[0]\n",
        "  for num,i in enumerate(l):\n",
        "    for j in l[num+1:]:\n",
        "      d=j-i\n",
        "      print(d)\n",
        "      if(dif>d):\n",
        "        dif=d\n",
        "      else:\n",
        "        pass\n",
        "  return dif\n",
        "\n",
        "print(f(l))\n",
        "  "
      ],
      "execution_count": 33,
      "outputs": [
        {
          "output_type": "stream",
          "name": "stdout",
          "text": [
            "6\n",
            "47\n",
            "12\n",
            "96\n",
            "4\n",
            "95\n",
            "62\n",
            "41\n",
            "6\n",
            "90\n",
            "-2\n",
            "89\n",
            "56\n",
            "-35\n",
            "49\n",
            "-43\n",
            "48\n",
            "15\n",
            "84\n",
            "-8\n",
            "83\n",
            "50\n",
            "-92\n",
            "-1\n",
            "-34\n",
            "91\n",
            "58\n",
            "-33\n",
            "-92\n"
          ]
        }
      ]
    },
    {
      "cell_type": "code",
      "metadata": {
        "colab": {
          "base_uri": "https://localhost:8080/"
        },
        "id": "I2WrljmkxlCr",
        "outputId": "e9de8f95-0470-4d09-a4ed-fbe2b45a1fe1"
      },
      "source": [
        "data = [\"_11\", \"21__\", \"__121_\"]\n",
        "data2 = [10, 100, 1000, 10000]\n",
        "#o/p: \"11-21-121\"\n",
        "l=''\n",
        "lis=[]\n",
        "for i in data:\n",
        "#  j=i.split('_')\n",
        "  j=i.replace('_','')\n",
        "  lis.append(j)\n",
        "  #print(lis)\n",
        "for elem in lis:\n",
        "#    print(elem)\n",
        "  if(elem.isdigit):\n",
        "    l=l+str(elem)\n",
        "    l=l+'-'\n",
        "print(l[:-1])"
      ],
      "execution_count": 24,
      "outputs": [
        {
          "output_type": "stream",
          "name": "stdout",
          "text": [
            "11-21-121\n"
          ]
        }
      ]
    },
    {
      "cell_type": "code",
      "metadata": {
        "colab": {
          "base_uri": "https://localhost:8080/",
          "height": 129
        },
        "id": "v82KlwaM3Wd2",
        "outputId": "ebee5ced-8f4d-47d0-e539-f2bcb109ea45"
      },
      "source": [
        "data2 = [10, 100, 1000, 10000]\n",
        "\n",
        "a=list(map(lambda x:x*x for x in data2, data2))\n"
      ],
      "execution_count": 27,
      "outputs": [
        {
          "output_type": "error",
          "ename": "SyntaxError",
          "evalue": "ignored",
          "traceback": [
            "\u001b[0;36m  File \u001b[0;32m\"<ipython-input-27-3fa7840a8d69>\"\u001b[0;36m, line \u001b[0;32m3\u001b[0m\n\u001b[0;31m    a=list(map(lambda (x:x*x for x in data2), data2))\u001b[0m\n\u001b[0m                      ^\u001b[0m\n\u001b[0;31mSyntaxError\u001b[0m\u001b[0;31m:\u001b[0m invalid syntax\n"
          ]
        }
      ]
    },
    {
      "cell_type": "code",
      "metadata": {
        "colab": {
          "base_uri": "https://localhost:8080/"
        },
        "id": "uyMaYMnoJZp8",
        "outputId": "d9d6db2d-1e99-4f51-afb1-d54afc5e4b5e"
      },
      "source": [
        "l=[1,2,3,2,4,3]\n",
        "m=[]\n",
        "for i in l:\n",
        "  if(i in m):\n",
        "    print(i)\n",
        "  else:\n",
        "    m.append(i)\n",
        "    "
      ],
      "execution_count": 1,
      "outputs": [
        {
          "output_type": "stream",
          "name": "stdout",
          "text": [
            "2\n",
            "3\n"
          ]
        }
      ]
    },
    {
      "cell_type": "code",
      "metadata": {
        "id": "X1OOneYgKAzp"
      },
      "source": [
        "def f(s):\n",
        "  for i in range(1,s):\n",
        "    k=i*2\n",
        "  yield k\n"
      ],
      "execution_count": null,
      "outputs": []
    },
    {
      "cell_type": "code",
      "metadata": {
        "colab": {
          "base_uri": "https://localhost:8080/"
        },
        "id": "609SK9tNK5FE",
        "outputId": "97b415ff-8956-4eff-e4d0-a56193e93680"
      },
      "source": [
        "str= \"Hi how are you\"\n",
        "l=str.split(\" \")\n",
        "m=[]\n",
        "k=len(l)\n",
        "#print(k)\n",
        "for i in range(k-1,-1,-1):\n",
        "  m.append(l[i])\n",
        "\n",
        "#print(m)\n",
        "s=\" \".join(m)\n",
        "print(s)\n"
      ],
      "execution_count": 14,
      "outputs": [
        {
          "output_type": "stream",
          "name": "stdout",
          "text": [
            "you are how Hi\n"
          ]
        }
      ]
    },
    {
      "cell_type": "code",
      "metadata": {
        "id": "xdI2Kc7JNw75"
      },
      "source": [
        "class A():\n",
        "  def sum(a,b):\n",
        "    return a+b\n",
        "\n",
        "  "
      ],
      "execution_count": null,
      "outputs": []
    },
    {
      "cell_type": "code",
      "metadata": {
        "colab": {
          "base_uri": "https://localhost:8080/"
        },
        "id": "nV7t6TxgRIM0",
        "outputId": "293b78ed-5b49-4319-e2d0-320367e05ac8"
      },
      "source": [
        "def f(num):\n",
        "  if(num%3==0 and num%5==0):\n",
        "    print(\"fizzbuzz\")\n",
        "  elif(num%3==0):\n",
        "    print(\"fizz\")\n",
        "  elif(num%5==0):\n",
        "    print(\"buzz\")\n",
        "  else:\n",
        "    pass\n",
        "\n",
        "\n",
        "c=f(20)"
      ],
      "execution_count": 4,
      "outputs": [
        {
          "output_type": "stream",
          "name": "stdout",
          "text": [
            "buzz\n"
          ]
        }
      ]
    },
    {
      "cell_type": "code",
      "metadata": {
        "id": "Z3Wpr186TN-l"
      },
      "source": [
        "l=[4,5,6,1,2,3]\n",
        "#3[1,2,3,4,5,6]\n",
        "\n",
        "a=l[0]\n",
        "for i in l:\n",
        "  for j in l[i+1:]:\n",
        "    if(l[i]>l[j]):\n",
        "      a=l[i]\n"
      ],
      "execution_count": null,
      "outputs": []
    }
  ]
}